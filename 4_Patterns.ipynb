{
 "cells": [
  {
   "cell_type": "code",
   "execution_count": 1,
   "metadata": {},
   "outputs": [],
   "source": [
    "import matplotlib.pyplot as plt\n",
    "import numpy as np\n",
    "import pandas as pd\n",
    "import time\n",
    "\n",
    "from gsp import *\n",
    "from spmf import Spmf"
   ]
  },
  {
   "cell_type": "markdown",
   "metadata": {},
   "source": [
    "# Sequential pattern mining"
   ]
  },
  {
   "cell_type": "code",
   "execution_count": 2,
   "metadata": {},
   "outputs": [],
   "source": [
    "data = pd.read_csv('datasets/clean_data.csv', index_col=0)"
   ]
  },
  {
   "cell_type": "code",
   "execution_count": 3,
   "metadata": {},
   "outputs": [],
   "source": [
    "# Creating a dictionary for mapping the ProdIDs for the SPMF library.\n",
    "\n",
    "prod_ids = data['ProdID'].unique()\n",
    "\n",
    "prod_to_int = dict()  # Maps the ProdID to an integer.\n",
    "i = 1\n",
    "for prod_id in prod_ids:\n",
    "    prod_to_int[prod_id] = i\n",
    "    i += 1\n",
    "    \n",
    "int_to_prod = {v: k for k, v in prod_to_int.items()}  # Reversed dictionary.\n",
    "\n",
    "data['ProdID_int'] = data['ProdID'].map(prod_to_int)"
   ]
  },
  {
   "cell_type": "markdown",
   "metadata": {},
   "source": [
    "### Creating the shopping sequences"
   ]
  },
  {
   "cell_type": "code",
   "execution_count": 4,
   "metadata": {},
   "outputs": [],
   "source": [
    "sequential_df = data.groupby(['CustomerID', 'BasketID'])['ProdID'].apply(list)\n",
    "sequential_df_int = data.groupby(['CustomerID', 'BasketID'])['ProdID_int'].apply(list)\n",
    "\n",
    "sequential_df = sequential_df.groupby(level=0).apply(list)\n",
    "sequential_df_int = sequential_df_int.groupby(level=0).apply(list)"
   ]
  },
  {
   "cell_type": "code",
   "execution_count": 5,
   "metadata": {},
   "outputs": [
    {
     "name": "stdout",
     "output_type": "stream",
     "text": [
      "Number of input sequences: 4333\n",
      "Total number of events: 18400\n",
      "Number of distinct products: 3658\n"
     ]
    }
   ],
   "source": [
    "print(\"Number of input sequences:\", len(sequential_df))\n",
    "print(\"Total number of events:\", sum([len(seq) for seq in sequential_df]))\n",
    "\n",
    "myset = set()\n",
    "for seq in sequential_df:\n",
    "    for lista in seq:\n",
    "        for elem in lista:\n",
    "            myset.add(elem)\n",
    "\n",
    "print(\"Number of distinct products:\", len(myset))"
   ]
  },
  {
   "cell_type": "code",
   "execution_count": 6,
   "metadata": {},
   "outputs": [
    {
     "data": {
      "text/plain": [
       "CustomerID\n",
       "12347    [[326, 1066, 894, 45, 85, 269, 270, 84, 409, 2...\n",
       "12348    [[285, 414, 72, 72, 283, 283, 408, 696, 695, 1...\n",
       "12349    [[3053, 3587, 1368, 144, 1084, 1044, 161, 305,...\n",
       "12350    [[1253, 1575, 801, 1020, 1460, 2634, 422, 421,...\n",
       "12352    [[936, 208, 207, 105, 141, 528, 174, 665, 23, ...\n",
       "                               ...                        \n",
       "18280    [[120, 187, 261, 888, 28, 1854, 438, 1034, 212...\n",
       "18281             [[959, 309, 988, 2814, 2815, 3008, 261]]\n",
       "18282    [[2867, 2808, 3291, 1269, 264, 1606, 132], [52...\n",
       "18283    [[1203, 259, 260, 59, 355, 1211, 354, 138, 106...\n",
       "18287    [[798, 568, 800, 1333, 1330, 1334, 6, 579, 512...\n",
       "Name: ProdID_int, Length: 4333, dtype: object"
      ]
     },
     "execution_count": 6,
     "metadata": {},
     "output_type": "execute_result"
    }
   ],
   "source": [
    "sequential_df_int"
   ]
  },
  {
   "cell_type": "markdown",
   "metadata": {},
   "source": [
    "## GSP algorithm"
   ]
  },
  {
   "cell_type": "code",
   "execution_count": 7,
   "metadata": {},
   "outputs": [
    {
     "name": "stdout",
     "output_type": "stream",
     "text": [
      "1.3860788345336914 seconds\n"
     ]
    }
   ],
   "source": [
    "start_time = time.time()\n",
    "result_set = apriori(sequential_df.head(100), 50, verbose=False)\n",
    "print(\"%s seconds\" % (time.time() - start_time))"
   ]
  },
  {
   "cell_type": "code",
   "execution_count": 8,
   "metadata": {},
   "outputs": [],
   "source": [
    "for r in result_set:\n",
    "    if len(r[0]) > 1:  # At least 2 items.\n",
    "        print(r[0])\n",
    "        print(r[1])"
   ]
  },
  {
   "cell_type": "markdown",
   "metadata": {},
   "source": [
    "## PrefixSpan algorithm"
   ]
  },
  {
   "cell_type": "code",
   "execution_count": 9,
   "metadata": {},
   "outputs": [
    {
     "name": "stdout",
     "output_type": "stream",
     "text": [
      ">/Users/michelezoncheddu/Downloads/spmf.jar\n",
      "=============  PREFIXSPAN 0.99-2016 - STATISTICS =============\n",
      " Total time ~ 5804 ms\n",
      " Frequent sequences count : 2306\n",
      " Max memory (mb) : 169.270263671875\n",
      " minsup = 100 sequences.\n",
      " Pattern count : 2306\n",
      "===================================================\n",
      "\n",
      "\n"
     ]
    }
   ],
   "source": [
    "path = \"/Users/michelezoncheddu/Downloads\"\n",
    "\n",
    "spmf = Spmf(\"PrefixSpan\", input_direct=sequential_df_int.tolist(), arguments=[0.023],  # 2.3% = 100 items\n",
    "            spmf_bin_location_dir=path)\n",
    "spmf.run()\n",
    "\n",
    "result = spmf.to_pandas_dataframe(pickle=True)"
   ]
  },
  {
   "cell_type": "code",
   "execution_count": 10,
   "metadata": {},
   "outputs": [
    {
     "data": {
      "text/html": [
       "<div>\n",
       "<style scoped>\n",
       "    .dataframe tbody tr th:only-of-type {\n",
       "        vertical-align: middle;\n",
       "    }\n",
       "\n",
       "    .dataframe tbody tr th {\n",
       "        vertical-align: top;\n",
       "    }\n",
       "\n",
       "    .dataframe thead th {\n",
       "        text-align: right;\n",
       "    }\n",
       "</style>\n",
       "<table border=\"1\" class=\"dataframe\">\n",
       "  <thead>\n",
       "    <tr style=\"text-align: right;\">\n",
       "      <th></th>\n",
       "      <th>pattern</th>\n",
       "      <th>sup</th>\n",
       "    </tr>\n",
       "  </thead>\n",
       "  <tbody>\n",
       "    <tr>\n",
       "      <th>9</th>\n",
       "      <td>[1, 1]</td>\n",
       "      <td>407</td>\n",
       "    </tr>\n",
       "    <tr>\n",
       "      <th>10</th>\n",
       "      <td>[1, 1, 1]</td>\n",
       "      <td>224</td>\n",
       "    </tr>\n",
       "    <tr>\n",
       "      <th>94</th>\n",
       "      <td>[14, 14]</td>\n",
       "      <td>291</td>\n",
       "    </tr>\n",
       "    <tr>\n",
       "      <th>270</th>\n",
       "      <td>[66, 66]</td>\n",
       "      <td>276</td>\n",
       "    </tr>\n",
       "    <tr>\n",
       "      <th>297</th>\n",
       "      <td>[66, 258]</td>\n",
       "      <td>207</td>\n",
       "    </tr>\n",
       "    <tr>\n",
       "      <th>310</th>\n",
       "      <td>[66, 286]</td>\n",
       "      <td>206</td>\n",
       "    </tr>\n",
       "    <tr>\n",
       "      <th>323</th>\n",
       "      <td>[66, 288]</td>\n",
       "      <td>212</td>\n",
       "    </tr>\n",
       "    <tr>\n",
       "      <th>338</th>\n",
       "      <td>[66, 3008]</td>\n",
       "      <td>213</td>\n",
       "    </tr>\n",
       "    <tr>\n",
       "      <th>532</th>\n",
       "      <td>[125, 125]</td>\n",
       "      <td>201</td>\n",
       "    </tr>\n",
       "    <tr>\n",
       "      <th>590</th>\n",
       "      <td>[138, 66]</td>\n",
       "      <td>200</td>\n",
       "    </tr>\n",
       "    <tr>\n",
       "      <th>602</th>\n",
       "      <td>[138, 138]</td>\n",
       "      <td>312</td>\n",
       "    </tr>\n",
       "    <tr>\n",
       "      <th>648</th>\n",
       "      <td>[138, 3010]</td>\n",
       "      <td>236</td>\n",
       "    </tr>\n",
       "    <tr>\n",
       "      <th>696</th>\n",
       "      <td>[169, 169]</td>\n",
       "      <td>200</td>\n",
       "    </tr>\n",
       "    <tr>\n",
       "      <th>868</th>\n",
       "      <td>[260, 66]</td>\n",
       "      <td>201</td>\n",
       "    </tr>\n",
       "    <tr>\n",
       "      <th>946</th>\n",
       "      <td>[286, 286]</td>\n",
       "      <td>226</td>\n",
       "    </tr>\n",
       "    <tr>\n",
       "      <th>988</th>\n",
       "      <td>[287, 66]</td>\n",
       "      <td>209</td>\n",
       "    </tr>\n",
       "    <tr>\n",
       "      <th>1010</th>\n",
       "      <td>[287, 287]</td>\n",
       "      <td>205</td>\n",
       "    </tr>\n",
       "    <tr>\n",
       "      <th>1044</th>\n",
       "      <td>[288, 66]</td>\n",
       "      <td>208</td>\n",
       "    </tr>\n",
       "    <tr>\n",
       "      <th>1065</th>\n",
       "      <td>[288, 288]</td>\n",
       "      <td>229</td>\n",
       "    </tr>\n",
       "    <tr>\n",
       "      <th>1283</th>\n",
       "      <td>[528, 528]</td>\n",
       "      <td>330</td>\n",
       "    </tr>\n",
       "    <tr>\n",
       "      <th>1300</th>\n",
       "      <td>[528, 3147]</td>\n",
       "      <td>206</td>\n",
       "    </tr>\n",
       "    <tr>\n",
       "      <th>1717</th>\n",
       "      <td>[1378, 1378]</td>\n",
       "      <td>280</td>\n",
       "    </tr>\n",
       "    <tr>\n",
       "      <th>1802</th>\n",
       "      <td>[2141, 2141]</td>\n",
       "      <td>225</td>\n",
       "    </tr>\n",
       "    <tr>\n",
       "      <th>2025</th>\n",
       "      <td>[2999, 2999]</td>\n",
       "      <td>210</td>\n",
       "    </tr>\n",
       "    <tr>\n",
       "      <th>2058</th>\n",
       "      <td>[3008, 3008]</td>\n",
       "      <td>206</td>\n",
       "    </tr>\n",
       "    <tr>\n",
       "      <th>2090</th>\n",
       "      <td>[3010, 138]</td>\n",
       "      <td>204</td>\n",
       "    </tr>\n",
       "    <tr>\n",
       "      <th>2105</th>\n",
       "      <td>[3010, 3010]</td>\n",
       "      <td>232</td>\n",
       "    </tr>\n",
       "  </tbody>\n",
       "</table>\n",
       "</div>"
      ],
      "text/plain": [
       "           pattern  sup\n",
       "9           [1, 1]  407\n",
       "10       [1, 1, 1]  224\n",
       "94        [14, 14]  291\n",
       "270       [66, 66]  276\n",
       "297      [66, 258]  207\n",
       "310      [66, 286]  206\n",
       "323      [66, 288]  212\n",
       "338     [66, 3008]  213\n",
       "532     [125, 125]  201\n",
       "590      [138, 66]  200\n",
       "602     [138, 138]  312\n",
       "648    [138, 3010]  236\n",
       "696     [169, 169]  200\n",
       "868      [260, 66]  201\n",
       "946     [286, 286]  226\n",
       "988      [287, 66]  209\n",
       "1010    [287, 287]  205\n",
       "1044     [288, 66]  208\n",
       "1065    [288, 288]  229\n",
       "1283    [528, 528]  330\n",
       "1300   [528, 3147]  206\n",
       "1717  [1378, 1378]  280\n",
       "1802  [2141, 2141]  225\n",
       "2025  [2999, 2999]  210\n",
       "2058  [3008, 3008]  206\n",
       "2090   [3010, 138]  204\n",
       "2105  [3010, 3010]  232"
      ]
     },
     "execution_count": 10,
     "metadata": {},
     "output_type": "execute_result"
    }
   ],
   "source": [
    "frequent_pattern = result[(result['pattern'].map(len) >= 2) & (result['sup'] >= 200)]\n",
    "frequent_pattern"
   ]
  },
  {
   "cell_type": "code",
   "execution_count": 11,
   "metadata": {},
   "outputs": [],
   "source": [
    "frequent_prod = list()\n",
    "for basket in frequent_pattern['pattern']:\n",
    "    temp = list()\n",
    "    for l in basket:\n",
    "        for x in l.split():\n",
    "            temp.append(int_to_prod[int(x)])\n",
    "    frequent_prod.append(temp)   "
   ]
  },
  {
   "cell_type": "code",
   "execution_count": 12,
   "metadata": {},
   "outputs": [
    {
     "data": {
      "text/plain": [
       "[['85123A', '85123A'],\n",
       " ['85123A', '85123A', '85123A'],\n",
       " ['84879', '84879'],\n",
       " ['20725', '20725'],\n",
       " ['20725', '22382'],\n",
       " ['20725', '22383'],\n",
       " ['20725', '20727'],\n",
       " ['20725', '23209'],\n",
       " ['22469', '22469'],\n",
       " ['85099B', '20725'],\n",
       " ['85099B', '85099B'],\n",
       " ['85099B', '23203'],\n",
       " ['22197', '22197'],\n",
       " ['22384', '20725'],\n",
       " ['22383', '22383'],\n",
       " ['20728', '20725'],\n",
       " ['20728', '20728'],\n",
       " ['20727', '20725'],\n",
       " ['20727', '20727'],\n",
       " ['22423', '22423'],\n",
       " ['22423', '23245'],\n",
       " ['47566', '47566'],\n",
       " ['22720', '22720'],\n",
       " ['23298', '23298'],\n",
       " ['23209', '23209'],\n",
       " ['23203', '85099B'],\n",
       " ['23203', '23203']]"
      ]
     },
     "execution_count": 12,
     "metadata": {},
     "output_type": "execute_result"
    }
   ],
   "source": [
    "frequent_prod"
   ]
  }
 ],
 "metadata": {
  "kernelspec": {
   "display_name": "Python 3",
   "language": "python",
   "name": "python3"
  },
  "language_info": {
   "codemirror_mode": {
    "name": "ipython",
    "version": 3
   },
   "file_extension": ".py",
   "mimetype": "text/x-python",
   "name": "python",
   "nbconvert_exporter": "python",
   "pygments_lexer": "ipython3",
   "version": "3.8.6"
  }
 },
 "nbformat": 4,
 "nbformat_minor": 4
}
