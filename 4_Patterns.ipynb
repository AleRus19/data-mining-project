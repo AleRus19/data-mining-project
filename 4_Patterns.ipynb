{
 "cells": [
  {
   "cell_type": "code",
   "execution_count": 16,
   "metadata": {},
   "outputs": [],
   "source": [
    "import numpy as np\n",
    "import pandas as pd\n",
    "import matplotlib.pyplot as plt\n",
    "\n",
    "from fim import apriori\n",
    "from gsp import *"
   ]
  },
  {
   "cell_type": "code",
   "execution_count": 17,
   "metadata": {},
   "outputs": [],
   "source": [
    "store -r not_canceled"
   ]
  },
  {
   "cell_type": "code",
   "execution_count": 18,
   "metadata": {},
   "outputs": [],
   "source": [
    "sequential_df = not_canceled.groupby(['CustomerID','BasketID'])['ProdID'].apply(list)"
   ]
  },
  {
   "cell_type": "code",
   "execution_count": 19,
   "metadata": {},
   "outputs": [
    {
     "data": {
      "text/plain": [
       "CustomerID  BasketID\n",
       "12346.0     541431                                                [23166]\n",
       "12347.0     537626      [85116, 22375, 71477, 22492, 22771, 22772, 227...\n",
       "            542237      [84625A, 84625C, 85116, 20719, 22375, 22376, 2...\n",
       "            549222      [22376, 22374, 22371, 22375, 20665, 23076, 217...\n",
       "            556201      [23084, 23162, 23171, 23172, 23170, 23173, 231...\n",
       "Name: ProdID, dtype: object"
      ]
     },
     "execution_count": 19,
     "metadata": {},
     "output_type": "execute_result"
    }
   ],
   "source": [
    "sequential_df.head()"
   ]
  },
  {
   "cell_type": "code",
   "execution_count": 20,
   "metadata": {},
   "outputs": [],
   "source": [
    "sequential_df = sequential_df.groupby(level=0).apply(list)"
   ]
  },
  {
   "cell_type": "code",
   "execution_count": 21,
   "metadata": {},
   "outputs": [
    {
     "data": {
      "text/plain": [
       "CustomerID\n",
       "12346.0                                            [[23166]]\n",
       "12347.0    [[85116, 22375, 71477, 22492, 22771, 22772, 22...\n",
       "12348.0    [[84992, 22951, 84991, 84991, 21213, 21213, 22...\n",
       "12349.0    [[23112, 23460, 21564, 21411, 21563, 22131, 22...\n",
       "12350.0    [[21908, 22412, 79066K, 79191C, 22348, 84086C,...\n",
       "                                 ...                        \n",
       "18280.0    [[82484, 22180, 22467, 22725, 22727, 22495, 22...\n",
       "18281.0    [[22037, 22716, 22028, 23007, 23008, 23209, 22...\n",
       "18282.0    [[21270, 23187, 23295, 22089, 21108, 21109, 22...\n",
       "18283.0    [[22356, 20726, 22384, 22386, 20717, 20718, 85...\n",
       "18287.0    [[22755, 22754, 22753, 22756, 22758, 22757, 22...\n",
       "Name: ProdID, Length: 4334, dtype: object"
      ]
     },
     "execution_count": 21,
     "metadata": {},
     "output_type": "execute_result"
    }
   ],
   "source": [
    "sequential_df"
   ]
  },
  {
   "cell_type": "code",
   "execution_count": null,
   "metadata": {},
   "outputs": [],
   "source": [
    "#signature requires: the dataset, the min support and the boolean verbose\n",
    "result_set = apriori(sequential_df, 60, verbose=False)"
   ]
  },
  {
   "cell_type": "code",
   "execution_count": null,
   "metadata": {},
   "outputs": [],
   "source": []
  }
 ],
 "metadata": {
  "kernelspec": {
   "display_name": "Python 3",
   "language": "python",
   "name": "python3"
  },
  "language_info": {
   "codemirror_mode": {
    "name": "ipython",
    "version": 3
   },
   "file_extension": ".py",
   "mimetype": "text/x-python",
   "name": "python",
   "nbconvert_exporter": "python",
   "pygments_lexer": "ipython3",
   "version": "3.7.3"
  }
 },
 "nbformat": 4,
 "nbformat_minor": 4
}
