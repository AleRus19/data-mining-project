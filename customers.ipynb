{
 "cells": [
  {
   "cell_type": "code",
   "execution_count": 1,
   "metadata": {},
   "outputs": [],
   "source": [
    "%matplotlib inline\n",
    "\n",
    "import math\n",
    "import matplotlib.pyplot as plt\n",
    "import numpy as np\n",
    "import pandas as pd\n",
    "import scipy.stats as stats\n",
    "\n",
    "from collections import defaultdict\n",
    "from datetime import datetime\n",
    "from scipy.stats.stats import pearsonr"
   ]
  },
  {
   "cell_type": "code",
   "execution_count": 2,
   "metadata": {},
   "outputs": [],
   "source": [
    "# Loading dataset.\n",
    "\n",
    "custom_date_parser = lambda x: datetime.strptime(x, \"%d/%m/%y %H:%M\")\n",
    "\n",
    "df = pd.read_csv('customer_supermarket.csv', sep='\\t', decimal=',',\n",
    "                 parse_dates=['BasketDate'], date_parser=custom_date_parser, index_col=0)\n",
    "\n",
    "df['CustomerID'] = df['CustomerID'].astype(float)"
   ]
  },
  {
   "cell_type": "markdown",
   "metadata": {},
   "source": [
    "# Data Understanding"
   ]
  },
  {
   "cell_type": "code",
   "execution_count": 3,
   "metadata": {
    "scrolled": true
   },
   "outputs": [
    {
     "name": "stdout",
     "output_type": "stream",
     "text": [
      "<class 'pandas.core.frame.DataFrame'>\n",
      "Int64Index: 471910 entries, 0 to 541909\n",
      "Data columns (total 8 columns):\n",
      "BasketID           471910 non-null object\n",
      "BasketDate         471910 non-null datetime64[ns]\n",
      "Sale               471910 non-null float64\n",
      "CustomerID         406830 non-null float64\n",
      "CustomerCountry    471910 non-null object\n",
      "ProdID             471910 non-null object\n",
      "ProdDescr          471157 non-null object\n",
      "Qta                471910 non-null int64\n",
      "dtypes: datetime64[ns](1), float64(2), int64(1), object(4)\n",
      "memory usage: 32.4+ MB\n"
     ]
    }
   ],
   "source": [
    "df.info()"
   ]
  },
  {
   "cell_type": "code",
   "execution_count": 4,
   "metadata": {},
   "outputs": [
    {
     "data": {
      "text/plain": [
       "BasketID               0\n",
       "BasketDate             0\n",
       "Sale                   0\n",
       "CustomerID         65080\n",
       "CustomerCountry        0\n",
       "ProdID                 0\n",
       "ProdDescr            753\n",
       "Qta                    0\n",
       "dtype: int64"
      ]
     },
     "execution_count": 4,
     "metadata": {},
     "output_type": "execute_result"
    }
   ],
   "source": [
    "df.isnull().sum()"
   ]
  },
  {
   "cell_type": "markdown",
   "metadata": {},
   "source": [
    "13% of CustomerID are null, 0.15% of ProdDescr are null."
   ]
  },
  {
   "cell_type": "code",
   "execution_count": 5,
   "metadata": {},
   "outputs": [
    {
     "data": {
      "text/html": [
       "<div>\n",
       "<style scoped>\n",
       "    .dataframe tbody tr th:only-of-type {\n",
       "        vertical-align: middle;\n",
       "    }\n",
       "\n",
       "    .dataframe tbody tr th {\n",
       "        vertical-align: top;\n",
       "    }\n",
       "\n",
       "    .dataframe thead th {\n",
       "        text-align: right;\n",
       "    }\n",
       "</style>\n",
       "<table border=\"1\" class=\"dataframe\">\n",
       "  <thead>\n",
       "    <tr style=\"text-align: right;\">\n",
       "      <th></th>\n",
       "      <th>Sale</th>\n",
       "      <th>CustomerID</th>\n",
       "      <th>Qta</th>\n",
       "    </tr>\n",
       "  </thead>\n",
       "  <tbody>\n",
       "    <tr>\n",
       "      <th>count</th>\n",
       "      <td>471910.000000</td>\n",
       "      <td>406830.000000</td>\n",
       "      <td>471910.000000</td>\n",
       "    </tr>\n",
       "    <tr>\n",
       "      <th>mean</th>\n",
       "      <td>4.030945</td>\n",
       "      <td>15287.684160</td>\n",
       "      <td>10.716533</td>\n",
       "    </tr>\n",
       "    <tr>\n",
       "      <th>std</th>\n",
       "      <td>83.769380</td>\n",
       "      <td>1713.603074</td>\n",
       "      <td>231.355136</td>\n",
       "    </tr>\n",
       "    <tr>\n",
       "      <th>min</th>\n",
       "      <td>-11062.060000</td>\n",
       "      <td>12346.000000</td>\n",
       "      <td>-80995.000000</td>\n",
       "    </tr>\n",
       "    <tr>\n",
       "      <th>25%</th>\n",
       "      <td>1.250000</td>\n",
       "      <td>13953.000000</td>\n",
       "      <td>1.000000</td>\n",
       "    </tr>\n",
       "    <tr>\n",
       "      <th>50%</th>\n",
       "      <td>2.080000</td>\n",
       "      <td>15152.000000</td>\n",
       "      <td>4.000000</td>\n",
       "    </tr>\n",
       "    <tr>\n",
       "      <th>75%</th>\n",
       "      <td>3.750000</td>\n",
       "      <td>16791.000000</td>\n",
       "      <td>12.000000</td>\n",
       "    </tr>\n",
       "    <tr>\n",
       "      <th>max</th>\n",
       "      <td>38970.000000</td>\n",
       "      <td>18287.000000</td>\n",
       "      <td>80995.000000</td>\n",
       "    </tr>\n",
       "  </tbody>\n",
       "</table>\n",
       "</div>"
      ],
      "text/plain": [
       "                Sale     CustomerID            Qta\n",
       "count  471910.000000  406830.000000  471910.000000\n",
       "mean        4.030945   15287.684160      10.716533\n",
       "std        83.769380    1713.603074     231.355136\n",
       "min    -11062.060000   12346.000000  -80995.000000\n",
       "25%         1.250000   13953.000000       1.000000\n",
       "50%         2.080000   15152.000000       4.000000\n",
       "75%         3.750000   16791.000000      12.000000\n",
       "max     38970.000000   18287.000000   80995.000000"
      ]
     },
     "execution_count": 5,
     "metadata": {},
     "output_type": "execute_result"
    }
   ],
   "source": [
    "df.describe()"
   ]
  },
  {
   "cell_type": "markdown",
   "metadata": {},
   "source": [
    "Detected anomalies:\n",
    "- negative sales;\n",
    "- negative quantities;\n",
    "- huge maximum sale;\n",
    "- huge maximum quantity."
   ]
  },
  {
   "cell_type": "code",
   "execution_count": 6,
   "metadata": {
    "scrolled": true
   },
   "outputs": [
    {
     "data": {
      "text/html": [
       "<div>\n",
       "<style scoped>\n",
       "    .dataframe tbody tr th:only-of-type {\n",
       "        vertical-align: middle;\n",
       "    }\n",
       "\n",
       "    .dataframe tbody tr th {\n",
       "        vertical-align: top;\n",
       "    }\n",
       "\n",
       "    .dataframe thead th {\n",
       "        text-align: right;\n",
       "    }\n",
       "</style>\n",
       "<table border=\"1\" class=\"dataframe\">\n",
       "  <thead>\n",
       "    <tr style=\"text-align: right;\">\n",
       "      <th></th>\n",
       "      <th>BasketID</th>\n",
       "      <th>BasketDate</th>\n",
       "      <th>Sale</th>\n",
       "      <th>CustomerID</th>\n",
       "      <th>CustomerCountry</th>\n",
       "      <th>ProdID</th>\n",
       "      <th>ProdDescr</th>\n",
       "      <th>Qta</th>\n",
       "    </tr>\n",
       "  </thead>\n",
       "  <tbody>\n",
       "    <tr>\n",
       "      <th>299983</th>\n",
       "      <td>A563186</td>\n",
       "      <td>2011-08-12 14:51:00</td>\n",
       "      <td>-11062.06</td>\n",
       "      <td>NaN</td>\n",
       "      <td>United Kingdom</td>\n",
       "      <td>B</td>\n",
       "      <td>Adjust bad debt</td>\n",
       "      <td>1</td>\n",
       "    </tr>\n",
       "    <tr>\n",
       "      <th>299984</th>\n",
       "      <td>A563187</td>\n",
       "      <td>2011-08-12 14:52:00</td>\n",
       "      <td>-11062.06</td>\n",
       "      <td>NaN</td>\n",
       "      <td>United Kingdom</td>\n",
       "      <td>B</td>\n",
       "      <td>Adjust bad debt</td>\n",
       "      <td>1</td>\n",
       "    </tr>\n",
       "  </tbody>\n",
       "</table>\n",
       "</div>"
      ],
      "text/plain": [
       "       BasketID          BasketDate      Sale  CustomerID CustomerCountry  \\\n",
       "299983  A563186 2011-08-12 14:51:00 -11062.06         NaN  United Kingdom   \n",
       "299984  A563187 2011-08-12 14:52:00 -11062.06         NaN  United Kingdom   \n",
       "\n",
       "       ProdID        ProdDescr  Qta  \n",
       "299983      B  Adjust bad debt    1  \n",
       "299984      B  Adjust bad debt    1  "
      ]
     },
     "execution_count": 6,
     "metadata": {},
     "output_type": "execute_result"
    }
   ],
   "source": [
    "df[df['Sale'] < 0].head()"
   ]
  },
  {
   "cell_type": "markdown",
   "metadata": {},
   "source": [
    "The records with negative sale have a leading 'A', that we suppose means \"aborted transaction\"."
   ]
  },
  {
   "cell_type": "code",
   "execution_count": 7,
   "metadata": {},
   "outputs": [
    {
     "data": {
      "text/html": [
       "<div>\n",
       "<style scoped>\n",
       "    .dataframe tbody tr th:only-of-type {\n",
       "        vertical-align: middle;\n",
       "    }\n",
       "\n",
       "    .dataframe tbody tr th {\n",
       "        vertical-align: top;\n",
       "    }\n",
       "\n",
       "    .dataframe thead th {\n",
       "        text-align: right;\n",
       "    }\n",
       "</style>\n",
       "<table border=\"1\" class=\"dataframe\">\n",
       "  <thead>\n",
       "    <tr style=\"text-align: right;\">\n",
       "      <th></th>\n",
       "      <th>BasketID</th>\n",
       "      <th>BasketDate</th>\n",
       "      <th>Sale</th>\n",
       "      <th>CustomerID</th>\n",
       "      <th>CustomerCountry</th>\n",
       "      <th>ProdID</th>\n",
       "      <th>ProdDescr</th>\n",
       "      <th>Qta</th>\n",
       "    </tr>\n",
       "  </thead>\n",
       "  <tbody>\n",
       "    <tr>\n",
       "      <th>141</th>\n",
       "      <td>C536379</td>\n",
       "      <td>2010-12-01 09:41:00</td>\n",
       "      <td>27.50</td>\n",
       "      <td>14527.0</td>\n",
       "      <td>United Kingdom</td>\n",
       "      <td>D</td>\n",
       "      <td>Discount</td>\n",
       "      <td>-1</td>\n",
       "    </tr>\n",
       "    <tr>\n",
       "      <th>154</th>\n",
       "      <td>C536383</td>\n",
       "      <td>2010-12-01 09:49:00</td>\n",
       "      <td>4.65</td>\n",
       "      <td>15311.0</td>\n",
       "      <td>United Kingdom</td>\n",
       "      <td>35004C</td>\n",
       "      <td>SET OF 3 COLOURED  FLYING DUCKS</td>\n",
       "      <td>-1</td>\n",
       "    </tr>\n",
       "    <tr>\n",
       "      <th>235</th>\n",
       "      <td>C536391</td>\n",
       "      <td>2010-12-01 10:24:00</td>\n",
       "      <td>1.65</td>\n",
       "      <td>17548.0</td>\n",
       "      <td>United Kingdom</td>\n",
       "      <td>22556</td>\n",
       "      <td>PLASTERS IN TIN CIRCUS PARADE</td>\n",
       "      <td>-12</td>\n",
       "    </tr>\n",
       "    <tr>\n",
       "      <th>236</th>\n",
       "      <td>C536391</td>\n",
       "      <td>2010-12-01 10:24:00</td>\n",
       "      <td>0.29</td>\n",
       "      <td>17548.0</td>\n",
       "      <td>United Kingdom</td>\n",
       "      <td>21984</td>\n",
       "      <td>PACK OF 12 PINK PAISLEY TISSUES</td>\n",
       "      <td>-24</td>\n",
       "    </tr>\n",
       "    <tr>\n",
       "      <th>237</th>\n",
       "      <td>C536391</td>\n",
       "      <td>2010-12-01 10:24:00</td>\n",
       "      <td>0.29</td>\n",
       "      <td>17548.0</td>\n",
       "      <td>United Kingdom</td>\n",
       "      <td>21983</td>\n",
       "      <td>PACK OF 12 BLUE PAISLEY TISSUES</td>\n",
       "      <td>-24</td>\n",
       "    </tr>\n",
       "  </tbody>\n",
       "</table>\n",
       "</div>"
      ],
      "text/plain": [
       "    BasketID          BasketDate   Sale  CustomerID CustomerCountry  ProdID  \\\n",
       "141  C536379 2010-12-01 09:41:00  27.50     14527.0  United Kingdom       D   \n",
       "154  C536383 2010-12-01 09:49:00   4.65     15311.0  United Kingdom  35004C   \n",
       "235  C536391 2010-12-01 10:24:00   1.65     17548.0  United Kingdom   22556   \n",
       "236  C536391 2010-12-01 10:24:00   0.29     17548.0  United Kingdom   21984   \n",
       "237  C536391 2010-12-01 10:24:00   0.29     17548.0  United Kingdom   21983   \n",
       "\n",
       "                            ProdDescr  Qta  \n",
       "141                          Discount   -1  \n",
       "154   SET OF 3 COLOURED  FLYING DUCKS   -1  \n",
       "235    PLASTERS IN TIN CIRCUS PARADE   -12  \n",
       "236  PACK OF 12 PINK PAISLEY TISSUES   -24  \n",
       "237  PACK OF 12 BLUE PAISLEY TISSUES   -24  "
      ]
     },
     "execution_count": 7,
     "metadata": {},
     "output_type": "execute_result"
    }
   ],
   "source": [
    "df[df['Qta'] < 0].head()"
   ]
  },
  {
   "cell_type": "markdown",
   "metadata": {},
   "source": [
    "All the records with negative quantities have BaskedIDs with a leading 'C', that we assume means \"canceled order\".\n",
    "The order's entries have been modified in-place, so..."
   ]
  },
  {
   "cell_type": "code",
   "execution_count": 14,
   "metadata": {},
   "outputs": [
    {
     "data": {
      "image/png": "[encoded data removed]",
      "text/plain": [
       "<Figure size 432x288 with 1 Axes>"
      ]
     },
     "metadata": {},
     "output_type": "display_data"
    }
   ],
   "source": [
    "# Customers' nationalities.\n",
    "\n",
    "countries = df['CustomerCountry'].value_counts()\n",
    "ax = countries.plot.pie()"
   ]
  },
  {
   "cell_type": "markdown",
   "metadata": {},
   "source": [
    "All the countries are real, but there are 340 unspecified records' countries."
   ]
  },
  {
   "cell_type": "markdown",
   "metadata": {},
   "source": [
    "## Data distribution and quality"
   ]
  },
  {
   "cell_type": "code",
   "execution_count": 3,
   "metadata": {},
   "outputs": [
    {
     "data": {
      "image/png": "[encoded data removed]",
      "text/plain": [
       "<Figure size 432x288 with 1 Axes>"
      ]
     },
     "metadata": {
      "needs_background": "light"
     },
     "output_type": "display_data"
    }
   ],
   "source": [
    "# Sales distribution.\n",
    "\n",
    "ax = df.Sale.hist(log=True, bins=50)"
   ]
  },
  {
   "cell_type": "code",
   "execution_count": 4,
   "metadata": {},
   "outputs": [
    {
     "data": {
      "image/png": "[encoded data removed]",
      "text/plain": [
       "<Figure size 432x288 with 1 Axes>"
      ]
     },
     "metadata": {
      "needs_background": "light"
     },
     "output_type": "display_data"
    }
   ],
   "source": [
    "# Qta distribution.\n",
    "\n",
    "ax = df.Qta.hist(log=True, bins=50)"
   ]
  },
  {
   "cell_type": "markdown",
   "metadata": {},
   "source": [
    "The majority of purchases have low price."
   ]
  },
  {
   "cell_type": "code",
   "execution_count": 6,
   "metadata": {},
   "outputs": [
    {
     "data": {
      "image/png": "[encoded data removed]",
      "text/plain": [
       "<Figure size 432x288 with 1 Axes>"
      ]
     },
     "metadata": {
      "needs_background": "light"
     },
     "output_type": "display_data"
    }
   ],
   "source": [
    "# Top-10 products.\n",
    "\n",
    "ax = df['ProdDescr'].value_counts().head(10).plot(kind='barh')\n",
    "ax.invert_yaxis()"
   ]
  },
  {
   "cell_type": "markdown",
   "metadata": {},
   "source": [
    "The first 9 most sold products are legit ones, but the 10th is \"postage\", that we assume is related to the shipping, and we're not considering it as a valid product.\n",
    "\n",
    "After a deeper analysis we've detected some unusual and erroneous ProdID and ProdDescr, and we've put them in two files: blacklist_prod_descr.csv and blacklist_prod_id.csv. An example is a descrition that mocks a colleague, also with typos: \"alan hodge cant mamage this section\".\n",
    "\n",
    "Analyzing the data, we also found this relation: (ProdDescr = null) $\\Rightarrow$ (CustomerID = null $\\land$ Sale = 0)."
   ]
  },
  {
   "cell_type": "markdown",
   "metadata": {},
   "source": [
    "### CustomerID analysis"
   ]
  },
  {
   "cell_type": "markdown",
   "metadata": {},
   "source": [
    "Given the high number of null CustomerIDs, we decided to consider them valid, under certain conditions (see next)."
   ]
  },
  {
   "cell_type": "markdown",
   "metadata": {},
   "source": [
    "# Data preparation"
   ]
  },
  {
   "cell_type": "markdown",
   "metadata": {},
   "source": [
    "## New features"
   ]
  },
  {
   "cell_type": "markdown",
   "metadata": {},
   "source": [
    "We want to analyze the customers' behavior on the day of the week."
   ]
  },
  {
   "cell_type": "code",
   "execution_count": 12,
   "metadata": {},
   "outputs": [],
   "source": [
    "df['BasketDay'] = df['BasketDate'].dt.day_name()"
   ]
  },
  {
   "cell_type": "markdown",
   "metadata": {},
   "source": [
    "As said before, the BasketID starting with a 'C' have been considered canceled. We added a new booleand field \"Canceled\" to keep track of them, then we removed the 'C' from the BasketID, and we reversed the quantity for further simplicity."
   ]
  },
  {
   "cell_type": "code",
   "execution_count": 13,
   "metadata": {},
   "outputs": [],
   "source": [
    "canceled = \"C\"\n",
    "df['Canceled'] = df['BasketID'].apply(lambda x : x.startswith(canceled))\n",
    "df['BasketID'] = df['BasketID'].apply(lambda x : x[1:] if x.startswith(canceled) else x)\n",
    "df['Qta'] = np.where(df['Canceled'], abs(df['Qta']), df['Qta'])"
   ]
  },
  {
   "cell_type": "markdown",
   "metadata": {},
   "source": [
    "We compute the total price of every row."
   ]
  },
  {
   "cell_type": "code",
   "execution_count": 14,
   "metadata": {},
   "outputs": [],
   "source": [
    "df['Total'] = df['Sale'] * df['Qta']"
   ]
  },
  {
   "cell_type": "markdown",
   "metadata": {},
   "source": [
    "## Data cleaning"
   ]
  },
  {
   "cell_type": "markdown",
   "metadata": {},
   "source": [
    "Remove the aborted transactions."
   ]
  },
  {
   "cell_type": "code",
   "execution_count": 15,
   "metadata": {},
   "outputs": [],
   "source": [
    "df = df[~(df['Sale'] < 0)]\n",
    "df['BasketID'] = df['BasketID'].astype(int)"
   ]
  },
  {
   "cell_type": "markdown",
   "metadata": {},
   "source": [
    "Then we remove the rows with bad ProdDescr and ProdID."
   ]
  },
  {
   "cell_type": "code",
   "execution_count": 16,
   "metadata": {},
   "outputs": [],
   "source": [
    "with open('blacklist_prod_descr.csv') as f:\n",
    "    blacklist = [line.strip() for line in f]\n",
    "\n",
    "df = df[~df['ProdDescr'].isin(blacklist)]"
   ]
  },
  {
   "cell_type": "code",
   "execution_count": 17,
   "metadata": {},
   "outputs": [],
   "source": [
    "# If len < 5 or > 6, probably not a valid product. We made another blacklist.\n",
    "\n",
    "with open('blacklist_prod_id.csv') as f:\n",
    "    blacklist = [line.strip() for line in f]\n",
    "\n",
    "df = df[~df['ProdID'].isin(blacklist)]"
   ]
  },
  {
   "cell_type": "code",
   "execution_count": 18,
   "metadata": {},
   "outputs": [],
   "source": [
    "# To find bad descriptions.\n",
    "#df['ProdDescr'].value_counts().to_csv('prodlist.csv')"
   ]
  },
  {
   "cell_type": "markdown",
   "metadata": {},
   "source": [
    "We found few zero prices, and in most of the cases, also null ProdDescr. We decided to get rid of them."
   ]
  },
  {
   "cell_type": "code",
   "execution_count": 19,
   "metadata": {},
   "outputs": [],
   "source": [
    "df = df[~(df['Sale'] == 0)]"
   ]
  },
  {
   "cell_type": "markdown",
   "metadata": {},
   "source": [
    "There are still too small values of Sale (less than 1 penny). We remove them."
   ]
  },
  {
   "cell_type": "code",
   "execution_count": 20,
   "metadata": {},
   "outputs": [],
   "source": [
    "df = df[~(df['Sale'] < 0.01)]"
   ]
  },
  {
   "cell_type": "markdown",
   "metadata": {},
   "source": [
    "5.27% of BasketIDs removed."
   ]
  },
  {
   "cell_type": "code",
   "execution_count": 21,
   "metadata": {},
   "outputs": [
    {
     "data": {
      "text/plain": [
       "Australia               0.397141\n",
       "Austria                 3.491272\n",
       "Bahrain                 0.000000\n",
       "Belgium                 4.736588\n",
       "Brazil                  0.000000\n",
       "Canada                  0.662252\n",
       "Channel Islands         0.659631\n",
       "Cyprus                  0.482315\n",
       "Czech Republic          6.666667\n",
       "Denmark                 3.598972\n",
       "EIRE                    1.495399\n",
       "European Community      4.918033\n",
       "Finland                 6.043165\n",
       "France                  3.800587\n",
       "Germany                 4.212744\n",
       "Greece                  2.739726\n",
       "Hong Kong               2.173913\n",
       "Iceland                 0.000000\n",
       "Israel                  0.000000\n",
       "Italy                   2.490660\n",
       "Japan                   0.837989\n",
       "Lebanon                 0.000000\n",
       "Lithuania               0.000000\n",
       "Malta                   3.149606\n",
       "Netherlands             1.897933\n",
       "Norway                  2.486188\n",
       "Poland                  1.466276\n",
       "Portugal                2.943144\n",
       "RSA                     1.724138\n",
       "Saudi Arabia            0.000000\n",
       "Singapore               6.113537\n",
       "Spain                   2.605606\n",
       "Sweden                  5.411255\n",
       "Switzerland             1.759834\n",
       "USA                     0.000000\n",
       "United Arab Emirates    1.470588\n",
       "United Kingdom          0.547786\n",
       "Unspecified             0.000000\n",
       "Name: CustomerCountry, dtype: float64"
      ]
     },
     "execution_count": 21,
     "metadata": {},
     "output_type": "execute_result"
    }
   ],
   "source": [
    "# Percentage for each country dropped.\n",
    "\n",
    "countries_after = df['CustomerCountry'].value_counts()\n",
    "dropped = (1 - countries_after.divide(countries)) * 100\n",
    "dropped"
   ]
  },
  {
   "cell_type": "code",
   "execution_count": 7,
   "metadata": {},
   "outputs": [
    {
     "data": {
      "image/png": "[encoded data removed]",
      "text/plain": [
       "<Figure size 432x288 with 1 Axes>"
      ]
     },
     "metadata": {
      "needs_background": "light"
     },
     "output_type": "display_data"
    }
   ],
   "source": [
    "# New top-10 products.\n",
    "\n",
    "ax = df['ProdDescr'].value_counts().head(10).plot(kind='barh')\n",
    "ax.invert_yaxis()"
   ]
  },
  {
   "cell_type": "code",
   "execution_count": 23,
   "metadata": {},
   "outputs": [
    {
     "data": {
      "text/html": [
       "<div>\n",
       "<style scoped>\n",
       "    .dataframe tbody tr th:only-of-type {\n",
       "        vertical-align: middle;\n",
       "    }\n",
       "\n",
       "    .dataframe tbody tr th {\n",
       "        vertical-align: top;\n",
       "    }\n",
       "\n",
       "    .dataframe thead th {\n",
       "        text-align: right;\n",
       "    }\n",
       "</style>\n",
       "<table border=\"1\" class=\"dataframe\">\n",
       "  <thead>\n",
       "    <tr style=\"text-align: right;\">\n",
       "      <th></th>\n",
       "      <th>BasketID</th>\n",
       "      <th>Sale</th>\n",
       "      <th>CustomerID</th>\n",
       "      <th>Qta</th>\n",
       "      <th>Total</th>\n",
       "    </tr>\n",
       "  </thead>\n",
       "  <tbody>\n",
       "    <tr>\n",
       "      <th>count</th>\n",
       "      <td>468251.000000</td>\n",
       "      <td>468251.000000</td>\n",
       "      <td>404876.000000</td>\n",
       "      <td>468251.000000</td>\n",
       "      <td>468251.000000</td>\n",
       "    </tr>\n",
       "    <tr>\n",
       "      <th>mean</th>\n",
       "      <td>560237.417710</td>\n",
       "      <td>3.108507</td>\n",
       "      <td>15295.253282</td>\n",
       "      <td>12.028444</td>\n",
       "      <td>21.287866</td>\n",
       "    </tr>\n",
       "    <tr>\n",
       "      <th>std</th>\n",
       "      <td>13289.254039</td>\n",
       "      <td>4.461019</td>\n",
       "      <td>1710.404209</td>\n",
       "      <td>231.039821</td>\n",
       "      <td>393.345586</td>\n",
       "    </tr>\n",
       "    <tr>\n",
       "      <th>min</th>\n",
       "      <td>536365.000000</td>\n",
       "      <td>0.030000</td>\n",
       "      <td>12346.000000</td>\n",
       "      <td>1.000000</td>\n",
       "      <td>0.060000</td>\n",
       "    </tr>\n",
       "    <tr>\n",
       "      <th>25%</th>\n",
       "      <td>548497.000000</td>\n",
       "      <td>1.250000</td>\n",
       "      <td>13969.000000</td>\n",
       "      <td>2.000000</td>\n",
       "      <td>4.130000</td>\n",
       "    </tr>\n",
       "    <tr>\n",
       "      <th>50%</th>\n",
       "      <td>561087.000000</td>\n",
       "      <td>2.080000</td>\n",
       "      <td>15159.000000</td>\n",
       "      <td>4.000000</td>\n",
       "      <td>10.200000</td>\n",
       "    </tr>\n",
       "    <tr>\n",
       "      <th>75%</th>\n",
       "      <td>571931.000000</td>\n",
       "      <td>3.750000</td>\n",
       "      <td>16794.000000</td>\n",
       "      <td>12.000000</td>\n",
       "      <td>17.700000</td>\n",
       "    </tr>\n",
       "    <tr>\n",
       "      <th>max</th>\n",
       "      <td>581587.000000</td>\n",
       "      <td>649.500000</td>\n",
       "      <td>18287.000000</td>\n",
       "      <td>80995.000000</td>\n",
       "      <td>168469.600000</td>\n",
       "    </tr>\n",
       "  </tbody>\n",
       "</table>\n",
       "</div>"
      ],
      "text/plain": [
       "            BasketID           Sale     CustomerID            Qta  \\\n",
       "count  468251.000000  468251.000000  404876.000000  468251.000000   \n",
       "mean   560237.417710       3.108507   15295.253282      12.028444   \n",
       "std     13289.254039       4.461019    1710.404209     231.039821   \n",
       "min    536365.000000       0.030000   12346.000000       1.000000   \n",
       "25%    548497.000000       1.250000   13969.000000       2.000000   \n",
       "50%    561087.000000       2.080000   15159.000000       4.000000   \n",
       "75%    571931.000000       3.750000   16794.000000      12.000000   \n",
       "max    581587.000000     649.500000   18287.000000   80995.000000   \n",
       "\n",
       "               Total  \n",
       "count  468251.000000  \n",
       "mean       21.287866  \n",
       "std       393.345586  \n",
       "min         0.060000  \n",
       "25%         4.130000  \n",
       "50%        10.200000  \n",
       "75%        17.700000  \n",
       "max    168469.600000  "
      ]
     },
     "execution_count": 23,
     "metadata": {},
     "output_type": "execute_result"
    }
   ],
   "source": [
    "df.describe()"
   ]
  },
  {
   "cell_type": "code",
   "execution_count": 24,
   "metadata": {},
   "outputs": [
    {
     "data": {
      "image/png": "[encoded data removed]",
      "text/plain": [
       "<Figure size 432x288 with 1 Axes>"
      ]
     },
     "metadata": {
      "needs_background": "light"
     },
     "output_type": "display_data"
    }
   ],
   "source": [
    "ax = df.Total.hist(log=True, bins=30)\n",
    "#ax.set_xlim((0, 82000))"
   ]
  },
  {
   "cell_type": "code",
   "execution_count": 25,
   "metadata": {},
   "outputs": [
    {
     "data": {
      "image/png": "[encoded data removed]",
      "text/plain": [
       "<Figure size 432x288 with 1 Axes>"
      ]
     },
     "metadata": {
      "needs_background": "light"
     },
     "output_type": "display_data"
    }
   ],
   "source": [
    "ax = df['Canceled'].value_counts().plot(kind='bar')"
   ]
  },
  {
   "cell_type": "code",
   "execution_count": 26,
   "metadata": {},
   "outputs": [
    {
     "data": {
      "image/png": "[encoded data removed]",
      "text/plain": [
       "<Figure size 432x288 with 1 Axes>"
      ]
     },
     "metadata": {
      "needs_background": "light"
     },
     "output_type": "display_data"
    }
   ],
   "source": [
    "ax = df['BasketDay'].value_counts().plot(kind='bar')"
   ]
  },
  {
   "cell_type": "markdown",
   "metadata": {},
   "source": [
    "There are no sales on saturday."
   ]
  },
  {
   "cell_type": "code",
   "execution_count": 27,
   "metadata": {},
   "outputs": [
    {
     "data": {
      "text/plain": [
       "(0, 100)"
      ]
     },
     "execution_count": 27,
     "metadata": {},
     "output_type": "execute_result"
    },
    {
     "data": {
      "image/png": "[encoded data removed]",
      "text/plain": [
       "<Figure size 432x288 with 1 Axes>"
      ]
     },
     "metadata": {
      "needs_background": "light"
     },
     "output_type": "display_data"
    }
   ],
   "source": [
    "not_canceled = df[~(df['Canceled'])]\n",
    "\n",
    "# Shopping sessions.\n",
    "ss_total = not_canceled.groupby(['BasketID']).agg({'Qta': 'mean'})\n",
    "\n",
    "ax = ss_total.Qta.hist(bins=100000)\n",
    "ax.set_xlim((0, 100))"
   ]
  },
  {
   "cell_type": "code",
   "execution_count": 28,
   "metadata": {},
   "outputs": [],
   "source": [
    "#ax = ss_total.plot.scatter(x='Qta', y='Total')"
   ]
  },
  {
   "cell_type": "code",
   "execution_count": 29,
   "metadata": {},
   "outputs": [
    {
     "data": {
      "image/png": "[encoded data removed]",
      "text/plain": [
       "<Figure size 432x288 with 1 Axes>"
      ]
     },
     "metadata": {
      "needs_background": "light"
     },
     "output_type": "display_data"
    }
   ],
   "source": [
    "# total number of items purchased by a customer during a period.\n",
    "\n",
    "start_date = '2010-12-01'\n",
    "end_date = '2011-12-05'\n",
    "\n",
    "mask = (not_canceled['BasketDate'] >= start_date) & (not_canceled['BasketDate'] <= end_date)\n",
    "filtered = not_canceled.loc[mask]\n",
    "ss_l = filtered.groupby('CustomerID').agg({'Qta': 'sum'})\n",
    "ax = ss_l.Qta.hist(bins=10000)"
   ]
  },
  {
   "cell_type": "code",
   "execution_count": 30,
   "metadata": {},
   "outputs": [
    {
     "data": {
      "image/png": "[encoded data removed]",
      "text/plain": [
       "<Figure size 432x288 with 1 Axes>"
      ]
     },
     "metadata": {
      "needs_background": "light"
     },
     "output_type": "display_data"
    }
   ],
   "source": [
    "# total number of distinct items purchased by a customer during a period.\n",
    "\n",
    "start_date = '2010-12-01'\n",
    "end_date = '2011-12-05'\n",
    "\n",
    "mask = (not_canceled['BasketDate'] >= start_date) & (not_canceled['BasketDate'] <= end_date)\n",
    "filtered = not_canceled.loc[mask]\n",
    "ss_lu = filtered.groupby(['CustomerID', 'ProdID']).agg({'Qta': 'count'})\n",
    "ax = ss_lu.Qta.hist(log=True, bins=70)"
   ]
  },
  {
   "cell_type": "code",
   "execution_count": 31,
   "metadata": {},
   "outputs": [
    {
     "data": {
      "image/png": "[encoded data removed]",
      "text/plain": [
       "<Figure size 432x288 with 1 Axes>"
      ]
     },
     "metadata": {
      "needs_background": "light"
     },
     "output_type": "display_data"
    }
   ],
   "source": [
    "# max number of items purchased by a customer during a shopping session.\n",
    "\n",
    "start_date = '2010-12-01'\n",
    "end_date = '2011-12-05'\n",
    "\n",
    "mask = (not_canceled['BasketDate'] >= start_date) & (not_canceled['BasketDate'] <= end_date)\n",
    "filtered = not_canceled.loc[mask]\n",
    "ss_temp = filtered.groupby(['BasketID']).agg({'Qta': 'sum'})\n",
    "ss_imax = filtered.groupby(['CustomerID']).agg({'Qta': 'max'})\n",
    "ax = ss_imax.Qta.hist(log=True, bins=70)"
   ]
  },
  {
   "cell_type": "code",
   "execution_count": 32,
   "metadata": {},
   "outputs": [],
   "source": [
    "# entropy on shopping date for customer predictability.\n",
    "\n",
    "customer_list = not_canceled['CustomerID'].unique()\n",
    "entropies = []\n",
    "\n",
    "for customer in customer_list:\n",
    "    data = not_canceled[not_canceled['CustomerID'] == customer]\n",
    "    prob = data['BasketDay'].value_counts()\n",
    "    entropy = stats.entropy(prob)\n",
    "    entropies.append(entropy)"
   ]
  },
  {
   "cell_type": "code",
   "execution_count": 33,
   "metadata": {
    "scrolled": true
   },
   "outputs": [
    {
     "data": {
      "image/png": "[encoded data removed]",
      "text/plain": [
       "<Figure size 432x288 with 1 Axes>"
      ]
     },
     "metadata": {
      "needs_background": "light"
     },
     "output_type": "display_data"
    }
   ],
   "source": [
    "plt.hist(entropies, bins=50)\n",
    "plt.show()"
   ]
  },
  {
   "cell_type": "code",
   "execution_count": null,
   "metadata": {},
   "outputs": [],
   "source": []
  }
 ],
 "metadata": {
  "kernelspec": {
   "display_name": "Python 3",
   "language": "python",
   "name": "python3"
  },
  "language_info": {
   "codemirror_mode": {
    "name": "ipython",
    "version": 3
   },
   "file_extension": ".py",
   "mimetype": "text/x-python",
   "name": "python",
   "nbconvert_exporter": "python",
   "pygments_lexer": "ipython3",
   "version": "3.8.5"
  }
 },
 "nbformat": 4,
 "nbformat_minor": 4
}
